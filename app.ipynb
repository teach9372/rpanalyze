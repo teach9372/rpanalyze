{
 "cells": [
  {
   "cell_type": "code",
   "execution_count": 1,
   "metadata": {},
   "outputs": [
    {
     "name": "stdout",
     "output_type": "stream",
     "text": [
      "Loaded preloaded APC data from APC.csv.\n",
      "Loaded preloaded Journal Subject data from subj.csv.\n",
      "Loaded preloaded Article Details data from details.csv.\n"
     ]
    },
    {
     "data": {
      "application/vnd.jupyter.widget-view+json": {
       "model_id": "112e96f062d44541976fc9fb49dedb9d",
       "version_major": 2,
       "version_minor": 0
      },
      "text/plain": [
       "VBox(children=(Label(value='Step 1: Upload APC Data'), FileUpload(value=(), accept='.csv', description='Upload…"
      ]
     },
     "metadata": {},
     "output_type": "display_data"
    },
    {
     "data": {
      "application/vnd.plotly.v1+json": {
       "config": {
        "plotlyServerURL": "https://plot.ly"
       },
       "data": [
        {
         "alignmentgroup": "True",
         "hovertemplate": "Article Payer Institute Name=%{x}<br>Count=%{y}<extra></extra>",
         "legendgroup": "",
         "marker": {
          "color": "#636efa",
          "pattern": {
           "shape": ""
          }
         },
         "name": "",
         "offsetgroup": "",
         "orientation": "v",
         "showlegend": false,
         "textposition": "auto",
         "type": "bar",
         "x": [
          "Acadia University",
          "Algoma University",
          "Athabasca University",
          "Bishop's University",
          "Brandon University",
          "Brock University",
          "Cape Breton University",
          "Carleton University",
          "Concordia University",
          "Dalhousie University",
          "High Commercial Studies of Montreal",
          "Lakehead University",
          "Laurentian University",
          "Laval University",
          "McGill University",
          "McMaster University",
          "Memorial University of Newfoundland",
          "Mount Allison University",
          "Mount Royal University",
          "Mount Saint Vincent University",
          "National Institute of Scientific Research",
          "National School for Public Administration",
          "Nipissing University",
          "Ontario Tech University",
          "Polytechnique Montréal",
          "Queen's University",
          "Royal Roads University",
          "Saint Mary's University",
          "Simon Fraser University",
          "St Francis Xavier University",
          "TELUQ",
          "The University of British Columbia",
          "The University of Winnipeg",
          "Thompson Rivers University",
          "Toronto Metropolitan University",
          "Trent University",
          "Trinity Western University",
          "University of Alberta",
          "University of Calgary",
          "University of Guelph",
          "University of Lethbridge",
          "University of Manitoba",
          "University of Moncton",
          "University of Montreal",
          "University of New Brunswick",
          "University of Northern British Columbia",
          "University of Ottawa",
          "University of Prince Edward Island",
          "University of Quebec at Abitibi Temiscamingue",
          "University of Quebec at Chicoutimi",
          "University of Quebec at Rimouski",
          "University of Quebec at Trois-Rivieres",
          "University of Quebec in Montreal",
          "University of Regina",
          "University of Saskatchewan",
          "University of Sherbrooke",
          "University of Toronto",
          "University of Victoria",
          "University of Waterloo",
          "University of Windsor",
          "University of the Fraser Valley",
          "Vancouver Island University",
          "Western University",
          "Wilfrid Laurier University",
          "York University",
          "École de technologie supérieure"
         ],
         "xaxis": "x",
         "y": [
          19,
          3,
          2,
          1,
          11,
          26,
          3,
          93,
          112,
          148,
          19,
          17,
          3,
          238,
          392,
          286,
          76,
          3,
          14,
          3,
          40,
          2,
          4,
          70,
          24,
          153,
          5,
          10,
          76,
          5,
          1,
          468,
          10,
          2,
          98,
          22,
          1,
          491,
          267,
          118,
          16,
          136,
          7,
          284,
          37,
          21,
          194,
          22,
          17,
          28,
          12,
          54,
          49,
          37,
          164,
          95,
          639,
          71,
          292,
          34,
          6,
          3,
          197,
          27,
          115,
          51
         ],
         "yaxis": "y"
        }
       ],
       "layout": {
        "barmode": "relative",
        "legend": {
         "tracegroupgap": 0
        },
        "template": {
         "data": {
          "bar": [
           {
            "error_x": {
             "color": "#2a3f5f"
            },
            "error_y": {
             "color": "#2a3f5f"
            },
            "marker": {
             "line": {
              "color": "#E5ECF6",
              "width": 0.5
             },
             "pattern": {
              "fillmode": "overlay",
              "size": 10,
              "solidity": 0.2
             }
            },
            "type": "bar"
           }
          ],
          "barpolar": [
           {
            "marker": {
             "line": {
              "color": "#E5ECF6",
              "width": 0.5
             },
             "pattern": {
              "fillmode": "overlay",
              "size": 10,
              "solidity": 0.2
             }
            },
            "type": "barpolar"
           }
          ],
          "carpet": [
           {
            "aaxis": {
             "endlinecolor": "#2a3f5f",
             "gridcolor": "white",
             "linecolor": "white",
             "minorgridcolor": "white",
             "startlinecolor": "#2a3f5f"
            },
            "baxis": {
             "endlinecolor": "#2a3f5f",
             "gridcolor": "white",
             "linecolor": "white",
             "minorgridcolor": "white",
             "startlinecolor": "#2a3f5f"
            },
            "type": "carpet"
           }
          ],
          "choropleth": [
           {
            "colorbar": {
             "outlinewidth": 0,
             "ticks": ""
            },
            "type": "choropleth"
           }
          ],
          "contour": [
           {
            "colorbar": {
             "outlinewidth": 0,
             "ticks": ""
            },
            "colorscale": [
             [
              0,
              "#0d0887"
             ],
             [
              0.1111111111111111,
              "#46039f"
             ],
             [
              0.2222222222222222,
              "#7201a8"
             ],
             [
              0.3333333333333333,
              "#9c179e"
             ],
             [
              0.4444444444444444,
              "#bd3786"
             ],
             [
              0.5555555555555556,
              "#d8576b"
             ],
             [
              0.6666666666666666,
              "#ed7953"
             ],
             [
              0.7777777777777778,
              "#fb9f3a"
             ],
             [
              0.8888888888888888,
              "#fdca26"
             ],
             [
              1,
              "#f0f921"
             ]
            ],
            "type": "contour"
           }
          ],
          "contourcarpet": [
           {
            "colorbar": {
             "outlinewidth": 0,
             "ticks": ""
            },
            "type": "contourcarpet"
           }
          ],
          "heatmap": [
           {
            "colorbar": {
             "outlinewidth": 0,
             "ticks": ""
            },
            "colorscale": [
             [
              0,
              "#0d0887"
             ],
             [
              0.1111111111111111,
              "#46039f"
             ],
             [
              0.2222222222222222,
              "#7201a8"
             ],
             [
              0.3333333333333333,
              "#9c179e"
             ],
             [
              0.4444444444444444,
              "#bd3786"
             ],
             [
              0.5555555555555556,
              "#d8576b"
             ],
             [
              0.6666666666666666,
              "#ed7953"
             ],
             [
              0.7777777777777778,
              "#fb9f3a"
             ],
             [
              0.8888888888888888,
              "#fdca26"
             ],
             [
              1,
              "#f0f921"
             ]
            ],
            "type": "heatmap"
           }
          ],
          "heatmapgl": [
           {
            "colorbar": {
             "outlinewidth": 0,
             "ticks": ""
            },
            "colorscale": [
             [
              0,
              "#0d0887"
             ],
             [
              0.1111111111111111,
              "#46039f"
             ],
             [
              0.2222222222222222,
              "#7201a8"
             ],
             [
              0.3333333333333333,
              "#9c179e"
             ],
             [
              0.4444444444444444,
              "#bd3786"
             ],
             [
              0.5555555555555556,
              "#d8576b"
             ],
             [
              0.6666666666666666,
              "#ed7953"
             ],
             [
              0.7777777777777778,
              "#fb9f3a"
             ],
             [
              0.8888888888888888,
              "#fdca26"
             ],
             [
              1,
              "#f0f921"
             ]
            ],
            "type": "heatmapgl"
           }
          ],
          "histogram": [
           {
            "marker": {
             "pattern": {
              "fillmode": "overlay",
              "size": 10,
              "solidity": 0.2
             }
            },
            "type": "histogram"
           }
          ],
          "histogram2d": [
           {
            "colorbar": {
             "outlinewidth": 0,
             "ticks": ""
            },
            "colorscale": [
             [
              0,
              "#0d0887"
             ],
             [
              0.1111111111111111,
              "#46039f"
             ],
             [
              0.2222222222222222,
              "#7201a8"
             ],
             [
              0.3333333333333333,
              "#9c179e"
             ],
             [
              0.4444444444444444,
              "#bd3786"
             ],
             [
              0.5555555555555556,
              "#d8576b"
             ],
             [
              0.6666666666666666,
              "#ed7953"
             ],
             [
              0.7777777777777778,
              "#fb9f3a"
             ],
             [
              0.8888888888888888,
              "#fdca26"
             ],
             [
              1,
              "#f0f921"
             ]
            ],
            "type": "histogram2d"
           }
          ],
          "histogram2dcontour": [
           {
            "colorbar": {
             "outlinewidth": 0,
             "ticks": ""
            },
            "colorscale": [
             [
              0,
              "#0d0887"
             ],
             [
              0.1111111111111111,
              "#46039f"
             ],
             [
              0.2222222222222222,
              "#7201a8"
             ],
             [
              0.3333333333333333,
              "#9c179e"
             ],
             [
              0.4444444444444444,
              "#bd3786"
             ],
             [
              0.5555555555555556,
              "#d8576b"
             ],
             [
              0.6666666666666666,
              "#ed7953"
             ],
             [
              0.7777777777777778,
              "#fb9f3a"
             ],
             [
              0.8888888888888888,
              "#fdca26"
             ],
             [
              1,
              "#f0f921"
             ]
            ],
            "type": "histogram2dcontour"
           }
          ],
          "mesh3d": [
           {
            "colorbar": {
             "outlinewidth": 0,
             "ticks": ""
            },
            "type": "mesh3d"
           }
          ],
          "parcoords": [
           {
            "line": {
             "colorbar": {
              "outlinewidth": 0,
              "ticks": ""
             }
            },
            "type": "parcoords"
           }
          ],
          "pie": [
           {
            "automargin": true,
            "type": "pie"
           }
          ],
          "scatter": [
           {
            "fillpattern": {
             "fillmode": "overlay",
             "size": 10,
             "solidity": 0.2
            },
            "type": "scatter"
           }
          ],
          "scatter3d": [
           {
            "line": {
             "colorbar": {
              "outlinewidth": 0,
              "ticks": ""
             }
            },
            "marker": {
             "colorbar": {
              "outlinewidth": 0,
              "ticks": ""
             }
            },
            "type": "scatter3d"
           }
          ],
          "scattercarpet": [
           {
            "marker": {
             "colorbar": {
              "outlinewidth": 0,
              "ticks": ""
             }
            },
            "type": "scattercarpet"
           }
          ],
          "scattergeo": [
           {
            "marker": {
             "colorbar": {
              "outlinewidth": 0,
              "ticks": ""
             }
            },
            "type": "scattergeo"
           }
          ],
          "scattergl": [
           {
            "marker": {
             "colorbar": {
              "outlinewidth": 0,
              "ticks": ""
             }
            },
            "type": "scattergl"
           }
          ],
          "scattermapbox": [
           {
            "marker": {
             "colorbar": {
              "outlinewidth": 0,
              "ticks": ""
             }
            },
            "type": "scattermapbox"
           }
          ],
          "scatterpolar": [
           {
            "marker": {
             "colorbar": {
              "outlinewidth": 0,
              "ticks": ""
             }
            },
            "type": "scatterpolar"
           }
          ],
          "scatterpolargl": [
           {
            "marker": {
             "colorbar": {
              "outlinewidth": 0,
              "ticks": ""
             }
            },
            "type": "scatterpolargl"
           }
          ],
          "scatterternary": [
           {
            "marker": {
             "colorbar": {
              "outlinewidth": 0,
              "ticks": ""
             }
            },
            "type": "scatterternary"
           }
          ],
          "surface": [
           {
            "colorbar": {
             "outlinewidth": 0,
             "ticks": ""
            },
            "colorscale": [
             [
              0,
              "#0d0887"
             ],
             [
              0.1111111111111111,
              "#46039f"
             ],
             [
              0.2222222222222222,
              "#7201a8"
             ],
             [
              0.3333333333333333,
              "#9c179e"
             ],
             [
              0.4444444444444444,
              "#bd3786"
             ],
             [
              0.5555555555555556,
              "#d8576b"
             ],
             [
              0.6666666666666666,
              "#ed7953"
             ],
             [
              0.7777777777777778,
              "#fb9f3a"
             ],
             [
              0.8888888888888888,
              "#fdca26"
             ],
             [
              1,
              "#f0f921"
             ]
            ],
            "type": "surface"
           }
          ],
          "table": [
           {
            "cells": {
             "fill": {
              "color": "#EBF0F8"
             },
             "line": {
              "color": "white"
             }
            },
            "header": {
             "fill": {
              "color": "#C8D4E3"
             },
             "line": {
              "color": "white"
             }
            },
            "type": "table"
           }
          ]
         },
         "layout": {
          "annotationdefaults": {
           "arrowcolor": "#2a3f5f",
           "arrowhead": 0,
           "arrowwidth": 1
          },
          "autotypenumbers": "strict",
          "coloraxis": {
           "colorbar": {
            "outlinewidth": 0,
            "ticks": ""
           }
          },
          "colorscale": {
           "diverging": [
            [
             0,
             "#8e0152"
            ],
            [
             0.1,
             "#c51b7d"
            ],
            [
             0.2,
             "#de77ae"
            ],
            [
             0.3,
             "#f1b6da"
            ],
            [
             0.4,
             "#fde0ef"
            ],
            [
             0.5,
             "#f7f7f7"
            ],
            [
             0.6,
             "#e6f5d0"
            ],
            [
             0.7,
             "#b8e186"
            ],
            [
             0.8,
             "#7fbc41"
            ],
            [
             0.9,
             "#4d9221"
            ],
            [
             1,
             "#276419"
            ]
           ],
           "sequential": [
            [
             0,
             "#0d0887"
            ],
            [
             0.1111111111111111,
             "#46039f"
            ],
            [
             0.2222222222222222,
             "#7201a8"
            ],
            [
             0.3333333333333333,
             "#9c179e"
            ],
            [
             0.4444444444444444,
             "#bd3786"
            ],
            [
             0.5555555555555556,
             "#d8576b"
            ],
            [
             0.6666666666666666,
             "#ed7953"
            ],
            [
             0.7777777777777778,
             "#fb9f3a"
            ],
            [
             0.8888888888888888,
             "#fdca26"
            ],
            [
             1,
             "#f0f921"
            ]
           ],
           "sequentialminus": [
            [
             0,
             "#0d0887"
            ],
            [
             0.1111111111111111,
             "#46039f"
            ],
            [
             0.2222222222222222,
             "#7201a8"
            ],
            [
             0.3333333333333333,
             "#9c179e"
            ],
            [
             0.4444444444444444,
             "#bd3786"
            ],
            [
             0.5555555555555556,
             "#d8576b"
            ],
            [
             0.6666666666666666,
             "#ed7953"
            ],
            [
             0.7777777777777778,
             "#fb9f3a"
            ],
            [
             0.8888888888888888,
             "#fdca26"
            ],
            [
             1,
             "#f0f921"
            ]
           ]
          },
          "colorway": [
           "#636efa",
           "#EF553B",
           "#00cc96",
           "#ab63fa",
           "#FFA15A",
           "#19d3f3",
           "#FF6692",
           "#B6E880",
           "#FF97FF",
           "#FECB52"
          ],
          "font": {
           "color": "#2a3f5f"
          },
          "geo": {
           "bgcolor": "white",
           "lakecolor": "white",
           "landcolor": "#E5ECF6",
           "showlakes": true,
           "showland": true,
           "subunitcolor": "white"
          },
          "hoverlabel": {
           "align": "left"
          },
          "hovermode": "closest",
          "mapbox": {
           "style": "light"
          },
          "paper_bgcolor": "white",
          "plot_bgcolor": "#E5ECF6",
          "polar": {
           "angularaxis": {
            "gridcolor": "white",
            "linecolor": "white",
            "ticks": ""
           },
           "bgcolor": "#E5ECF6",
           "radialaxis": {
            "gridcolor": "white",
            "linecolor": "white",
            "ticks": ""
           }
          },
          "scene": {
           "xaxis": {
            "backgroundcolor": "#E5ECF6",
            "gridcolor": "white",
            "gridwidth": 2,
            "linecolor": "white",
            "showbackground": true,
            "ticks": "",
            "zerolinecolor": "white"
           },
           "yaxis": {
            "backgroundcolor": "#E5ECF6",
            "gridcolor": "white",
            "gridwidth": 2,
            "linecolor": "white",
            "showbackground": true,
            "ticks": "",
            "zerolinecolor": "white"
           },
           "zaxis": {
            "backgroundcolor": "#E5ECF6",
            "gridcolor": "white",
            "gridwidth": 2,
            "linecolor": "white",
            "showbackground": true,
            "ticks": "",
            "zerolinecolor": "white"
           }
          },
          "shapedefaults": {
           "line": {
            "color": "#2a3f5f"
           }
          },
          "ternary": {
           "aaxis": {
            "gridcolor": "white",
            "linecolor": "white",
            "ticks": ""
           },
           "baxis": {
            "gridcolor": "white",
            "linecolor": "white",
            "ticks": ""
           },
           "bgcolor": "#E5ECF6",
           "caxis": {
            "gridcolor": "white",
            "linecolor": "white",
            "ticks": ""
           }
          },
          "title": {
           "x": 0.05
          },
          "xaxis": {
           "automargin": true,
           "gridcolor": "white",
           "linecolor": "white",
           "ticks": "",
           "title": {
            "standoff": 15
           },
           "zerolinecolor": "white",
           "zerolinewidth": 2
          },
          "yaxis": {
           "automargin": true,
           "gridcolor": "white",
           "linecolor": "white",
           "ticks": "",
           "title": {
            "standoff": 15
           },
           "zerolinecolor": "white",
           "zerolinewidth": 2
          }
         }
        },
        "title": {
         "text": "Hybrid OA Counts by Institute"
        },
        "xaxis": {
         "anchor": "y",
         "domain": [
          0,
          1
         ],
         "title": {
          "text": "Article Payer Institute Name"
         }
        },
        "yaxis": {
         "anchor": "x",
         "domain": [
          0,
          1
         ],
         "title": {
          "text": "Count"
         }
        }
       }
      }
     },
     "metadata": {},
     "output_type": "display_data"
    }
   ],
   "source": [
    "import pandas as pd\n",
    "import plotly.express as px\n",
    "import os\n",
    "from ipywidgets import widgets, VBox, Output, Button, Label\n",
    "from IPython.display import display\n",
    "import io\n",
    "\n",
    "# Initialize global variables for data\n",
    "apc_data = None\n",
    "subject_data = None\n",
    "article_data = None\n",
    "\n",
    "# File paths for preloaded data\n",
    "apc_file_path = \"APC.csv\"\n",
    "subject_file_path = \"subj.csv\"\n",
    "article_file_path = \"details.csv\"\n",
    "\n",
    "# Load APC data automatically if available\n",
    "if os.path.exists(apc_file_path):\n",
    "    apc_data = pd.read_csv(apc_file_path)\n",
    "    print(f\"Loaded preloaded APC data from {apc_file_path}.\")\n",
    "else:\n",
    "    print(\"APC data file not found. Please upload it.\")\n",
    "\n",
    "# Load Journal Subject data automatically if available\n",
    "if os.path.exists(subject_file_path):\n",
    "    subject_data = pd.read_csv(subject_file_path)\n",
    "    print(f\"Loaded preloaded Journal Subject data from {subject_file_path}.\")\n",
    "else:\n",
    "    print(\"Journal Subject data file not found. Please upload it.\")\n",
    "\n",
    "# Load Article Details data automatically if available\n",
    "if os.path.exists(article_file_path):\n",
    "    article_data = pd.read_csv(article_file_path)\n",
    "    print(f\"Loaded preloaded Article Details data from {article_file_path}.\")\n",
    "else:\n",
    "    print(\"Article Details data file not found. Please upload it.\")\n",
    "\n",
    "# File upload widgets\n",
    "apc_upload = widgets.FileUpload(accept='.csv', multiple=False, description='Upload APC')\n",
    "subject_upload = widgets.FileUpload(accept='.csv,.xlsx', multiple=False, description='Upload Subjects')\n",
    "article_upload = widgets.FileUpload(accept='.csv', multiple=False, description='Upload Details')\n",
    "\n",
    "# Buttons and outputs\n",
    "analyze_button = Button(description=\"Analyze Data\", button_style='success')\n",
    "results_output = Output()\n",
    "\n",
    "# Define callback functions\n",
    "def load_apc(change):\n",
    "    global apc_data\n",
    "    if apc_upload.value:\n",
    "        file = next(iter(apc_upload.value.values()))\n",
    "        apc_data = pd.read_csv(io.BytesIO(file['content']))\n",
    "        with results_output:\n",
    "            print(\"APC data uploaded successfully.\")\n",
    "            display(apc_data.head())\n",
    "\n",
    "def load_subject(change):\n",
    "    global subject_data\n",
    "    if subject_upload.value:\n",
    "        file = next(iter(subject_upload.value.values()))\n",
    "        if file['name'].endswith('.xlsx'):\n",
    "            subject_data = pd.read_excel(io.BytesIO(file['content']))\n",
    "        else:\n",
    "            subject_data = pd.read_csv(io.BytesIO(file['content']))\n",
    "        with results_output:\n",
    "            print(\"Subject data uploaded successfully.\")\n",
    "            display(subject_data.head())\n",
    "\n",
    "def load_article(change):\n",
    "    global article_data\n",
    "    if article_upload.value:\n",
    "        file = next(iter(article_upload.value.values()))\n",
    "        article_data = pd.read_csv(io.BytesIO(file['content']))\n",
    "        with results_output:\n",
    "            print(\"Article Details data uploaded successfully.\")\n",
    "            display(article_data.head())\n",
    "\n",
    "apc_upload.observe(load_apc, names='value')\n",
    "subject_upload.observe(load_subject, names='value')\n",
    "article_upload.observe(load_article, names='value')\n",
    "\n",
    "# Analysis function\n",
    "def analyze_data(_):\n",
    "    results_output.clear_output()\n",
    "    with results_output:\n",
    "        # Check if required files are loaded\n",
    "        if apc_data is None or subject_data is None or article_data is None:\n",
    "            print(\"Please ensure all files are uploaded before analyzing.\")\n",
    "            return\n",
    "        \n",
    "        # Example analysis: Calculate Hybrid OA Ratio\n",
    "        try:\n",
    "            hybrid_articles = article_data[article_data['Article publishing model'] == 'Hybrid open access']\n",
    "            total_articles = len(article_data)\n",
    "            hybrid_ratio = len(hybrid_articles) / total_articles if total_articles > 0 else 0\n",
    "\n",
    "            print(f\"Hybrid OA Ratio: {hybrid_ratio:.2%}\")\n",
    "\n",
    "            # Visualization example\n",
    "            hybrid_counts = hybrid_articles.groupby('Article Payer Institute Name').size().reset_index(name='Count')\n",
    "            fig = px.bar(hybrid_counts, x='Article Payer Institute Name', y='Count', title='Hybrid OA Counts by Institute')\n",
    "            fig.show()\n",
    "        except Exception as e:\n",
    "            print(f\"An error occurred during analysis: {e}\")\n",
    "\n",
    "analyze_button.on_click(analyze_data)\n",
    "\n",
    "# Display UI\n",
    "display(VBox([\n",
    "    Label(\"Step 1: Upload APC Data\"),\n",
    "    apc_upload,\n",
    "    Label(\"Step 2: Upload Journal Subject Data\"),\n",
    "    subject_upload,\n",
    "    Label(\"Step 3: Upload Article Details Data\"),\n",
    "    article_upload,\n",
    "    analyze_button,\n",
    "    results_output\n",
    "]))\n"
   ]
  },
  {
   "cell_type": "code",
   "execution_count": null,
   "metadata": {},
   "outputs": [],
   "source": []
  }
 ],
 "metadata": {
  "kernelspec": {
   "display_name": "Python 3",
   "language": "python",
   "name": "python3"
  },
  "language_info": {
   "codemirror_mode": {
    "name": "ipython",
    "version": 3
   },
   "file_extension": ".py",
   "mimetype": "text/x-python",
   "name": "python",
   "nbconvert_exporter": "python",
   "pygments_lexer": "ipython3",
   "version": "3.10.5"
  },
  "orig_nbformat": 4
 },
 "nbformat": 4,
 "nbformat_minor": 2
}
